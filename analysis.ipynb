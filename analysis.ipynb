{
 "cells": [
  {
   "cell_type": "markdown",
   "metadata": {},
   "source": [
    "# Missouri Presidential Primary Results\n",
    "\n",
    "This notebook walks through wrangling, analysis and visualization of *unofficial* results of the statewide Missouri General Election, which will be held on November 3, 2020."
   ]
  },
  {
   "cell_type": "markdown",
   "metadata": {},
   "source": [
    "## Dependencies \n",
    "\n",
    "First, we import the necessary Python modules (or parts of them). Here's the list of what we need from the Python's standard libary:"
   ]
  },
  {
   "cell_type": "code",
   "execution_count": 2,
   "metadata": {},
   "outputs": [],
   "source": [
    "import os\n",
    "import xml.etree.ElementTree as et"
   ]
  },
  {
   "cell_type": "markdown",
   "metadata": {},
   "source": [
    "Here are the modules from third-party packages (previously installed via [pip](https://pip.pypa.io/en/stable/installing/))."
   ]
  },
  {
   "cell_type": "code",
   "execution_count": 3,
   "metadata": {},
   "outputs": [],
   "source": [
    "import pandas as pd\n",
    "import altair as alt"
   ]
  },
  {
   "cell_type": "markdown",
   "metadata": {},
   "source": [
    "And here we'll introduce another third-party package called [Requests](https://requests.readthedocs.io/en/master/), which is very useful for managing HTTP requests and responses.\n",
    "\n",
    "[HTTP](https://developer.mozilla.org/en-US/docs/Web/HTTP) stands for **H**yper**t**ext **T**ransfer **P**rotocol, and it is the foundation of any data exchange on Web. It sets the rules for how clients like your preferred web browser (e.g., Firefox, Safari, Chrome) communicate with web servers that host web pages and other resources you might fetch.\n",
    "\n",
    "The HTTP flow starts when a client sends a request to server. All requests have the following parts:\n",
    "\n",
    "1. A [method](https://developer.mozilla.org/en-US/docs/Web/HTTP/Methods) indicating the user's desired action.\n",
    "2. A path to a resource, indicated by Universal Resource Locator (aka, [URL](https://developer.mozilla.org/en-US/docs/Learn/Common_questions/What_is_a_URL)).\n",
    "3. Optional headers that convey additional information to the server.\n",
    "\n",
    "For more background, check out [\"How the Web works\"](https://developer.mozilla.org/en-US/docs/Learn/Getting_started_with_the_web/How_the_Web_works) and other resources on the Mozilla Developer Network."
   ]
  },
  {
   "cell_type": "code",
   "execution_count": 4,
   "metadata": {},
   "outputs": [],
   "source": [
    "import requests"
   ]
  },
  {
   "cell_type": "markdown",
   "metadata": {},
   "source": [
    "## Accessing results data\n",
    "\n",
    "For every state-wide election, the Missouri Secretary of State publishes county-level results. Initial results are posted after polls close at 7 pm on election night with updated results posted every few minutes until all precincts have reported.\n",
    "\n",
    "Here is the URL:"
   ]
  },
  {
   "cell_type": "code",
   "execution_count": 5,
   "metadata": {},
   "outputs": [],
   "source": [
    "results_url = \"https://enrarchives.sos.mo.gov/apfeed/apfeed.asmx/GetElectionResults\""
   ]
  },
  {
   "cell_type": "markdown",
   "metadata": {},
   "source": [
    "In order to access the feed, you need a key provided by SoS Elections Divisions. To keep the key hidden from public view, we can store it in a variable in our shell environment so that it won't show up in our notebook when we publish it.\n",
    "\n",
    "Go to your launcher and launch a terminal session. Then you can set the environment variable:\n",
    "\n",
    "```bash\n",
    "set $ACCESS_KEY={paste the access key here}\n",
    "```\n",
    "\n",
    "Note that the environment variable will be deleted when the terminal session is closed. There are a lot of tools and tricks for storing project-specific environment variables and loading them as needed. My preference is [direnv](https://direnv.net/).\n",
    "\n",
    "We can now access this environment variable via [`os`](https://docs.python.org/3/library/os.html), Python's built-in module for interacting with you computer's underlying operating system."
   ]
  },
  {
   "cell_type": "code",
   "execution_count": 13,
   "metadata": {},
   "outputs": [],
   "source": [
    "access_key = os.environ.get('ACCESS_KEY')"
   ]
  },
  {
   "cell_type": "markdown",
   "metadata": {},
   "source": [
    "I can fetch this data using the popular [Requests](https://requests.readthedocs.io/en/master/) library, which provides a simple interface for sending [HTTP](https://developer.mozilla.org/en-US/docs/Web/HTTP) requests and processing the responses.\n",
    "\n",
    "Here's how I make a `GET` request (the most common HTTP [request method](https://developer.mozilla.org/en-US/docs/Web/HTTP/Methods)) to the XML feed url. The access key is passed in via a query parameter."
   ]
  },
  {
   "cell_type": "code",
   "execution_count": 14,
   "metadata": {},
   "outputs": [],
   "source": [
    "r = requests.get(\n",
    "    results_url, params={'AccessKey': access_key}\n",
    ")"
   ]
  },
  {
   "cell_type": "markdown",
   "metadata": {},
   "source": [
    "This method call returns a [`requests.Response`](https://requests.readthedocs.io/en/master/api/#requests.Response), which I've called `r`.\n",
    "\n",
    "Here's how we check the general status of the response."
   ]
  },
  {
   "cell_type": "code",
   "execution_count": 15,
   "metadata": {},
   "outputs": [
    {
     "data": {
      "text/plain": [
       "False"
      ]
     },
     "execution_count": 15,
     "metadata": {},
     "output_type": "execute_result"
    }
   ],
   "source": [
    "r.ok"
   ]
  },
  {
   "cell_type": "markdown",
   "metadata": {},
   "source": [
    "Uh oh, it's not okay.\n",
    "\n",
    "We can further investigate by checking the responses status code [status code](https://developer.mozilla.org/en-US/docs/Web/HTTP/Status)."
   ]
  },
  {
   "cell_type": "code",
   "execution_count": 9,
   "metadata": {},
   "outputs": [
    {
     "data": {
      "text/plain": [
       "403"
      ]
     },
     "execution_count": 9,
     "metadata": {},
     "output_type": "execute_result"
    }
   ],
   "source": [
    "r.status_code"
   ]
  },
  {
   "cell_type": "markdown",
   "metadata": {},
   "source": [
    "And the reason for the status code, if provided by the server."
   ]
  },
  {
   "cell_type": "code",
   "execution_count": 10,
   "metadata": {},
   "outputs": [
    {
     "data": {
      "text/plain": [
       "'Forbidden'"
      ]
     },
     "execution_count": 10,
     "metadata": {},
     "output_type": "execute_result"
    }
   ],
   "source": [
    "r.reason"
   ]
  },
  {
   "cell_type": "markdown",
   "metadata": {},
   "source": [
    "As is often the case, some web servers are configured to block requests coming from specific kinds of [user agents](https://developer.mozilla.org/en-US/docs/Glossary/user_agent) (i.e., software making a request on behalf of a user).\n",
    "\n",
    "However, we can bypass this issue by modifying the [`'User-Agent'` header](https://developer.mozilla.org/en-US/docs/Web/HTTP/Headers/User-Agent) of the request. The default is `'python-requests/2.23.0'`, but we can substitute what a web browser would send.\n",
    "\n",
    "Much like the parameters, the headers can be passed in as a `dict` through a keyword argument in the `.get` method call:"
   ]
  },
  {
   "cell_type": "code",
   "execution_count": 18,
   "metadata": {},
   "outputs": [],
   "source": [
    "r = requests.get(\n",
    "    results_url,\n",
    "    params={'AccessKey': access_key},\n",
    "    headers={'User-Agent': 'Mozilla/5.0 (Macintosh; Intel Mac OS X 10.15; rv:73.0) Gecko/20100101 Firefox/73.0'}\n",
    ")"
   ]
  },
  {
   "cell_type": "markdown",
   "metadata": {},
   "source": [
    "Now let's check the status again."
   ]
  },
  {
   "cell_type": "code",
   "execution_count": 19,
   "metadata": {},
   "outputs": [
    {
     "data": {
      "text/plain": [
       "True"
      ]
     },
     "execution_count": 19,
     "metadata": {},
     "output_type": "execute_result"
    }
   ],
   "source": [
    "r.ok"
   ]
  },
  {
   "cell_type": "markdown",
   "metadata": {},
   "source": [
    "The actual data we're after is in the `.content` attibute of the response."
   ]
  },
  {
   "cell_type": "code",
   "execution_count": 20,
   "metadata": {},
   "outputs": [],
   "source": [
    "xml = r.content"
   ]
  },
  {
   "cell_type": "markdown",
   "metadata": {},
   "source": [
    "## Preparing results data for analysis\n",
    "\n",
    "Missouri's election results (and election results published by most other U.S. election authorities) are provided in [XML](https://developer.mozilla.org/en-US/docs/Web/XML/XML_introduction) format. XML stands for E**x**tensible **M**arkup **L**anguage, and it's closely related to HTML (aka, **H**yper**t**ext **M**arkup **L**anguage), another foundational technology of the Web.\n",
    "\n",
    "HTML and XML both share the concept of [elements](https://developer.mozilla.org/en-US/docs/Glossary/element) which afford structure to documents. \n",
    "\n",
    "Whereas HTML has predefined tags like [`<h1>` through `<h6>`](https://developer.mozilla.org/en-US/docs/Web/HTML/Element/Heading_Elements) for headings and [`<p>`](https://developer.mozilla.org/en-US/docs/Web/HTML/Element/p) for paragraphs, XML allows data providers to define their own tags, which affords more semantic annotation of the document's content. In the sense, the tags in XML become sort of like column headers of a data table, communicate how we should interpret the inner content.\n",
    "\n",
    "At the top of this notebook, we imported [`ElementTree`](https://docs.python.org/3.8/library/xml.etree.elementtree.html#module-xml.etree.ElementTree)  under the alias `et` (this is part of Python's built-in [XML](https://docs.python.org/3.8/library/xml.etree.elementtree.html) module). In that module is a function named [`fromstring`](https://docs.python.org/3.8/library/xml.etree.elementtree.html#xml.etree.ElementTree.fromstring), which parses a string of XML (i.e., the content of our response)."
   ]
  },
  {
   "cell_type": "code",
   "execution_count": 21,
   "metadata": {},
   "outputs": [],
   "source": [
    "root = et.fromstring(xml)"
   ]
  },
  {
   "cell_type": "markdown",
   "metadata": {},
   "source": [
    "The `fromstring` function returns the top-level or \"root\" [`Element`](https://docs.python.org/3.8/library/xml.etree.elementtree.html#xml.etree.ElementTree.Element) of the XML. This is the outermost element of the XML tree.\n",
    "\n",
    "Again, the name of each tag indicates the kind of data the element contains, sort of like a column header in a tabular data format. We can access this label like this:"
   ]
  },
  {
   "cell_type": "code",
   "execution_count": 26,
   "metadata": {},
   "outputs": [
    {
     "data": {
      "text/plain": [
       "xml.etree.ElementTree.Element"
      ]
     },
     "execution_count": 26,
     "metadata": {},
     "output_type": "execute_result"
    }
   ],
   "source": [
    "type(root)"
   ]
  },
  {
   "cell_type": "code",
   "execution_count": 24,
   "metadata": {},
   "outputs": [
    {
     "name": "stdout",
     "output_type": "stream",
     "text": [
      "ElectionResults\n"
     ]
    }
   ],
   "source": [
    "print(root.tag)"
   ]
  },
  {
   "cell_type": "markdown",
   "metadata": {},
   "source": [
    "We can also access the elements \"attributes\", which is a dictionary of the all the stuff that's inside the first part of the tag. In this case, there's just one attribute: `'LastUpdated'`, which tells us the date and time the results were last updated."
   ]
  },
  {
   "cell_type": "code",
   "execution_count": 23,
   "metadata": {},
   "outputs": [
    {
     "name": "stdout",
     "output_type": "stream",
     "text": [
      "10/27/2020 04:51:42 PM\n"
     ]
    }
   ],
   "source": [
    "print(root.attrib['LastUpdated'])"
   ]
  },
  {
   "cell_type": "markdown",
   "metadata": {},
   "source": [
    "The `Element` class has two other methods we'll make use of:\n",
    "\n",
    "- [`.find`](https://docs.python.org/3.8/library/xml.etree.elementtree.html#xml.etree.ElementTree.Element.find), which returns the *first* subelement that matches the string you pass in.\n",
    "- [`.findall`](https://docs.python.org/3.8/library/xml.etree.elementtree.html#xml.etree.ElementTree.Element.findall), which returns *all* of the matching subelements in a list.\n",
    "\n",
    "Unlike CSV and other tabular data formats, XML has a nested structure with elements inside other elements. We can't read XML directly into a `pandas.DataFrame` (though, I did just run across [this](https://pypi.org/project/pandas-read-xml/) third-party package, which looks quite promising).\n",
    "\n",
    "Instead, we need to reformat the data from a nested structure into a two-dimensional structure that resembles a data table. We need to \"flatten\" the XML documents hierarchy such that each row in our data includes single observation with an observed value for each variable (i.e., columns). \n",
    "\n",
    "Essentially, we want each row to contain the number of votes counted for each ballot option in a given county and given contest.\n",
    "\n",
    "Let's start by defining an empty list hold all of our rows"
   ]
  },
  {
   "cell_type": "code",
   "execution_count": 15,
   "metadata": {},
   "outputs": [],
   "source": [
    "rows = []"
   ]
  },
  {
   "cell_type": "markdown",
   "metadata": {},
   "source": [
    "Now let's work from the outside in."
   ]
  },
  {
   "cell_type": "code",
   "execution_count": 45,
   "metadata": {},
   "outputs": [
    {
     "name": "stdout",
     "output_type": "stream",
     "text": [
      "{'type': 'Federal', 'race': 'U.S. President and Vice President'}\n",
      "{'type': 'State of Missouri', 'race': 'Attorney General'}\n",
      "{'type': 'US Representative ', 'race': 'U.S. Representative - District 8'}\n",
      "{'type': 'State Senate ', 'race': 'State Senator - District 33'}\n",
      "{'type': 'State House ', 'race': 'State Representative - District 163'}\n",
      "{'type': 'Circuit Court', 'race': 'Circuit Judge - Circuit 42 Division 2'}\n",
      "{'type': 'Missouri Supreme Court', 'race': 'Missouri Supreme Court'}\n",
      "{'type': 'Eastern Appellate Court ', 'race': 'Court of Appeals - Eastern District 1'}\n",
      "{'type': 'Southern Appellate Court ', 'race': 'Court of Appeals - Southern District'}\n",
      "{'type': 'Western Appellate Court ', 'race': 'Court of Appeals - Western District'}\n",
      "{'type': 'Circuit Court', 'race': 'Associate Circuit Judge - Circuit 31 - Div 26'}\n",
      "{'type': 'Ballot Issues', 'race': 'Constitutional Amendment 3'}\n"
     ]
    }
   ],
   "source": [
    "for type_race in root.findall('.//TypeRace'):\n",
    "    row = {'type': type_race.find('Type').text}\n",
    "    for race in type_race.findall('Race'):\n",
    "        row['race'] = race.find('RaceTitle').text.strip()\n",
    "    print(row)"
   ]
  },
  {
   "cell_type": "markdown",
   "metadata": {},
   "source": [
    "And then inspect a single candidate element."
   ]
  },
  {
   "cell_type": "markdown",
   "metadata": {},
   "source": [
    "We can list all of the elements inside the candidate elements."
   ]
  },
  {
   "cell_type": "markdown",
   "metadata": {},
   "source": [
    "Now I can load this data into a `pandas.DataFrame`. In so doing, I will specify the column headers. For the sake of consistency, I will reuse the element tags from the XML:"
   ]
  },
  {
   "cell_type": "markdown",
   "metadata": {},
   "source": [
    "I'll take a look at the columns, their positions, non-null counts and data-types:"
   ]
  },
  {
   "cell_type": "markdown",
   "metadata": {},
   "source": [
    "And take a peek of the actual data:"
   ]
  },
  {
   "cell_type": "code",
   "execution_count": null,
   "metadata": {},
   "outputs": [],
   "source": []
  },
  {
   "cell_type": "code",
   "execution_count": null,
   "metadata": {},
   "outputs": [],
   "source": []
  }
 ],
 "metadata": {
  "kernelspec": {
   "display_name": "Python 3",
   "language": "python",
   "name": "python3"
  },
  "language_info": {
   "codemirror_mode": {
    "name": "ipython",
    "version": 3
   },
   "file_extension": ".py",
   "mimetype": "text/x-python",
   "name": "python",
   "nbconvert_exporter": "python",
   "pygments_lexer": "ipython3",
   "version": "3.8.5"
  }
 },
 "nbformat": 4,
 "nbformat_minor": 4
}
