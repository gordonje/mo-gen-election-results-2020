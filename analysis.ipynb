{
 "cells": [
  {
   "cell_type": "markdown",
   "metadata": {},
   "source": [
    "# Missouri 2020 General Election Results\n",
    "\n",
    "This notebook walks through wrangling, analysis and visualization of *unofficial* results of the statewide Missouri General Election, which will be held on November 3, 2020."
   ]
  },
  {
   "cell_type": "markdown",
   "metadata": {},
   "source": [
    "## Dependencies \n",
    "\n",
    "First, we import the Python modules (or parts of them) that our code will rely on. Here's what we need from Python's standard libary:"
   ]
  },
  {
   "cell_type": "code",
   "execution_count": 1,
   "metadata": {},
   "outputs": [],
   "source": [
    "import os\n",
    "import xml.etree.ElementTree as et"
   ]
  },
  {
   "cell_type": "markdown",
   "metadata": {},
   "source": [
    "And here a couple of familiar third-party packages (previously installed via [pip](https://pip.pypa.io/en/stable/installing/))."
   ]
  },
  {
   "cell_type": "code",
   "execution_count": 2,
   "metadata": {},
   "outputs": [],
   "source": [
    "import pandas as pd\n",
    "import altair as alt"
   ]
  },
  {
   "cell_type": "markdown",
   "metadata": {},
   "source": [
    "And here is a third-party package that's new to our toolchain: [Requests](https://requests.readthedocs.io/en/master/), which is very useful for managing HTTP requests and responses."
   ]
  },
  {
   "cell_type": "code",
   "execution_count": 3,
   "metadata": {},
   "outputs": [],
   "source": [
    "import requests"
   ]
  },
  {
   "cell_type": "markdown",
   "metadata": {},
   "source": [
    "[HTTP](https://developer.mozilla.org/en-US/docs/Web/HTTP) stands for **H**yper**t**ext **T**ransfer **P**rotocol, and it is the foundation of any data exchange on Web. It sets the rules for how clients like your preferred web browser (e.g., Firefox, Safari, Chrome) communicate with web servers that host web pages and other resources you might fetch.\n",
    "\n",
    "The HTTP flow starts when a client sends a request to server. All requests have the following parts:\n",
    "\n",
    "1. A [method](https://developer.mozilla.org/en-US/docs/Web/HTTP/Methods) indicating the user's desired action.\n",
    "2. A path to a resource, indicated by Uniform Resource Locator (aka, [URL](https://developer.mozilla.org/en-US/docs/Learn/Common_questions/What_is_a_URL)).\n",
    "3. Optional headers that convey additional information to the server.\n",
    "\n",
    "For more background, check out [\"How the Web works\"](https://developer.mozilla.org/en-US/docs/Learn/Getting_started_with_the_web/How_the_Web_works) and other resources on the Mozilla Developer Network."
   ]
  },
  {
   "cell_type": "markdown",
   "metadata": {},
   "source": [
    "## Accessing results data\n",
    "\n",
    "For every state-wide election, the Missouri Secretary of State publishes county-level results. Initial results are posted after polls close at 7 pm on election night with updated results posted every few minutes until all precincts have reported.\n",
    "\n",
    "Here is the URL:"
   ]
  },
  {
   "cell_type": "code",
   "execution_count": 4,
   "metadata": {},
   "outputs": [],
   "source": [
    "results_url = \"https://enrarchives.sos.mo.gov/apfeed/apfeed.asmx/GetElectionResults\""
   ]
  },
  {
   "cell_type": "markdown",
   "metadata": {},
   "source": [
    "In order to access the feed, you need a key provided by SoS Elections Divisions. To keep the key hidden from public view, we can store it in a variable in our shell environment so that it won't show up in our notebook when we publish it.\n",
    "\n",
    "Go to your launcher and launch a terminal session. Then you can set the environment variable:\n",
    "\n",
    "```bash\n",
    "set $ACCESS_KEY={paste the access key here}\n",
    "```\n",
    "\n",
    "Note that the environment variable will be deleted when the terminal session is closed. There are a lot of tools and tricks for storing project-specific environment variables and loading them as needed. My preference is [direnv](https://direnv.net/).\n",
    "\n",
    "We can now access this environment variable via [`os`](https://docs.python.org/3/library/os.html), Python's built-in module for interacting with you computer's underlying operating system."
   ]
  },
  {
   "cell_type": "code",
   "execution_count": 5,
   "metadata": {},
   "outputs": [],
   "source": [
    "access_key = os.environ.get(\"ACCESS_KEY\")"
   ]
  },
  {
   "cell_type": "markdown",
   "metadata": {},
   "source": [
    "I can fetch this data using the popular [Requests](https://requests.readthedocs.io/en/master/) library, which provides a simple interface for sending [HTTP](https://developer.mozilla.org/en-US/docs/Web/HTTP) requests and processing the responses.\n",
    "\n",
    "Here's how I make a `GET` request (the most common HTTP [request method](https://developer.mozilla.org/en-US/docs/Web/HTTP/Methods)) to the XML feed url. The access key is passed in via a query parameter."
   ]
  },
  {
   "cell_type": "code",
   "execution_count": 6,
   "metadata": {},
   "outputs": [],
   "source": [
    "r = requests.get(\n",
    "    results_url,\n",
    "    params={'AccessKey': access_key}\n",
    ")"
   ]
  },
  {
   "cell_type": "markdown",
   "metadata": {},
   "source": [
    "This method call returns a [`requests.Response`](https://requests.readthedocs.io/en/master/api/#requests.Response), which I've called `r`.\n",
    "\n",
    "Here's how we check the general status of the response."
   ]
  },
  {
   "cell_type": "code",
   "execution_count": 7,
   "metadata": {},
   "outputs": [
    {
     "data": {
      "text/plain": [
       "False"
      ]
     },
     "execution_count": 7,
     "metadata": {},
     "output_type": "execute_result"
    }
   ],
   "source": [
    "r.ok"
   ]
  },
  {
   "cell_type": "markdown",
   "metadata": {},
   "source": [
    "Uh oh, it's not okay.\n",
    "\n",
    "We can further investigate by checking the responses status code [status code](https://developer.mozilla.org/en-US/docs/Web/HTTP/Status)."
   ]
  },
  {
   "cell_type": "code",
   "execution_count": 8,
   "metadata": {},
   "outputs": [
    {
     "data": {
      "text/plain": [
       "403"
      ]
     },
     "execution_count": 8,
     "metadata": {},
     "output_type": "execute_result"
    }
   ],
   "source": [
    "r.status_code"
   ]
  },
  {
   "cell_type": "markdown",
   "metadata": {},
   "source": [
    "As is often the case, some web servers are configured to block requests coming from specific kinds of [user agents](https://developer.mozilla.org/en-US/docs/Glossary/user_agent) (i.e., software making a request on behalf of a user).\n",
    "\n",
    "However, we can bypass this issue by modifying the [`'User-Agent'` header](https://developer.mozilla.org/en-US/docs/Web/HTTP/Headers/User-Agent) of the request. The default is `'python-requests/2.23.0'`, but we can substitute a header that a web browser would send. For example, here is user-agent header sent by the Firefox browser: `Mozilla/5.0 (Macintosh; Intel Mac OS X 10.15; rv:83.0) Gecko/20100101 Firefox/83.0`.\n",
    "\n",
    "Much like the parameters, the headers can be passed in as a `dict` through a keyword argument in the `.get` method call:"
   ]
  },
  {
   "cell_type": "code",
   "execution_count": 9,
   "metadata": {},
   "outputs": [],
   "source": [
    "r = requests.get(\n",
    "    results_url,\n",
    "    params={'AccessKey': access_key},\n",
    "    headers={'User-Agent': \"Mozilla/5.0 (Macintosh; Intel Mac OS X 10.15; rv:83.0) Gecko/20100101 Firefox/83.0\"}\n",
    ")"
   ]
  },
  {
   "cell_type": "markdown",
   "metadata": {},
   "source": [
    "Now let's check the status again. This method will throw an exception if our response has a bad status."
   ]
  },
  {
   "cell_type": "code",
   "execution_count": 10,
   "metadata": {},
   "outputs": [
    {
     "data": {
      "text/plain": [
       "True"
      ]
     },
     "execution_count": 10,
     "metadata": {},
     "output_type": "execute_result"
    }
   ],
   "source": [
    "r.ok"
   ]
  },
  {
   "cell_type": "markdown",
   "metadata": {},
   "source": [
    "These election results are not permenantly available via this URL. Separate from this notebook, I've set up a process to archive these results every few minutes so that code in this notebook will always run."
   ]
  },
  {
   "cell_type": "code",
   "execution_count": 11,
   "metadata": {},
   "outputs": [],
   "source": [
    "try:\n",
    "    r.raise_for_status()\n",
    "except requests.HTTPError:\n",
    "    r = requests.get(\"https://mo-gen-election-results-2020.s3.us-east-2.amazonaws.com/sos/latest.xml\")"
   ]
  },
  {
   "cell_type": "markdown",
   "metadata": {},
   "source": [
    "The actual data we're after is in the `.content` attibute of the response."
   ]
  },
  {
   "cell_type": "code",
   "execution_count": 12,
   "metadata": {},
   "outputs": [],
   "source": [
    "xml = r.content"
   ]
  },
  {
   "cell_type": "markdown",
   "metadata": {},
   "source": [
    "## Preparing results data for analysis\n",
    "\n",
    "Missouri's election results (and election results published by most other U.S. election authorities) are provided in [XML](https://developer.mozilla.org/en-US/docs/Web/XML/XML_introduction) format. XML stands for E**x**tensible **M**arkup **L**anguage, and it's closely related to another, more commonly known, Web technology: [HTML](https://developer.mozilla.org/en-US/docs/Learn/Getting_started_with_the_web/HTML_basics) (aka, **H**yper**t**ext **M**arkup **L**anguage).\n",
    "\n",
    "HTML and XML both share the concept of [elements](https://developer.mozilla.org/en-US/docs/Glossary/element), which are the atomic units that define the structure of HTML and XML documents.\n",
    "\n",
    "![](https://media.prod.mdn.mozit.cloud/attachments/2014/04/09/7659/a731e40efad1f6e0b728bfcf86c0035b/anatomy-of-an-html-element.png)\n",
    "\n",
    "Whereas HTML has predefined tags like [`<h1>` through `<h6>`](https://developer.mozilla.org/en-US/docs/Web/HTML/Element/Heading_Elements) for headings and [`<p>`](https://developer.mozilla.org/en-US/docs/Web/HTML/Element/p) for paragraphs, XML allows data providers to define their own tags, which affords more semantic annotation of the document's content. In the sense, the tags in XML become sort of like column headers of a data table, communicate how we should interpret the inner content.\n",
    "\n",
    "At the top of this notebook, we imported [`ElementTree`](https://docs.python.org/3.8/library/xml.etree.elementtree.html#module-xml.etree.ElementTree)  under the alias `et` (this is part of Python's built-in [XML](https://docs.python.org/3.8/library/xml.etree.elementtree.html) module). In that module is a function named [`fromstring`](https://docs.python.org/3.8/library/xml.etree.elementtree.html#xml.etree.ElementTree.fromstring), which parses a string of XML (i.e., the content of our response)."
   ]
  },
  {
   "cell_type": "code",
   "execution_count": 13,
   "metadata": {},
   "outputs": [],
   "source": [
    "root = et.fromstring(xml)"
   ]
  },
  {
   "cell_type": "code",
   "execution_count": null,
   "metadata": {},
   "outputs": [],
   "source": []
  },
  {
   "cell_type": "markdown",
   "metadata": {},
   "source": [
    "The `fromstring` function returns the top-level or \"root\" [`Element`](https://docs.python.org/3.8/library/xml.etree.elementtree.html#xml.etree.ElementTree.Element) of the XML. This is the outermost element of the XML tree.\n",
    "\n",
    "Again, the name of each tag indicates the kind of data the element contains, sort of like a column header in a tabular data format. We can access this label like this:"
   ]
  },
  {
   "cell_type": "code",
   "execution_count": 14,
   "metadata": {},
   "outputs": [
    {
     "data": {
      "text/plain": [
       "'ElectionResults'"
      ]
     },
     "execution_count": 14,
     "metadata": {},
     "output_type": "execute_result"
    }
   ],
   "source": [
    "root.tag"
   ]
  },
  {
   "cell_type": "markdown",
   "metadata": {},
   "source": [
    "We can also access the elements attributes, which is a dictionary of the all the stuff that's inside the opening tag. In this case, there's just one attribute: `'LastUpdated'`, which tells us the date and time the results were last updated."
   ]
  },
  {
   "cell_type": "code",
   "execution_count": 15,
   "metadata": {},
   "outputs": [
    {
     "data": {
      "text/plain": [
       "'10/27/2020 04:51:42 PM'"
      ]
     },
     "execution_count": 15,
     "metadata": {},
     "output_type": "execute_result"
    }
   ],
   "source": [
    "root.attrib['LastUpdated']"
   ]
  },
  {
   "cell_type": "markdown",
   "metadata": {},
   "source": [
    "We can also list the elements immediately inside a given element:"
   ]
  },
  {
   "cell_type": "code",
   "execution_count": 16,
   "metadata": {},
   "outputs": [
    {
     "data": {
      "text/plain": [
       "[<Element 'ElectionInfo' at 0x120bf0810>]"
      ]
     },
     "execution_count": 16,
     "metadata": {},
     "output_type": "execute_result"
    }
   ],
   "source": [
    "list(root)"
   ]
  },
  {
   "cell_type": "markdown",
   "metadata": {},
   "source": [
    "The `Element` class has two other methods we'll make use of:\n",
    "\n",
    "- [`.find`](https://docs.python.org/3.8/library/xml.etree.elementtree.html#xml.etree.ElementTree.Element.find), which returns the *first* sub-element that matches the string you pass in.\n",
    "- [`.findall`](https://docs.python.org/3.8/library/xml.etree.elementtree.html#xml.etree.ElementTree.Element.findall), which returns *all* of the matching sub-elements in a list.\n",
    "\n",
    "Both `.find` and `.findall` have one required argument: a string that matches the name of a tag on an immediate sub-element (aka, a \"child\" element):"
   ]
  },
  {
   "cell_type": "code",
   "execution_count": 17,
   "metadata": {},
   "outputs": [
    {
     "data": {
      "text/plain": [
       "<Element 'ElectionInfo' at 0x120bf0810>"
      ]
     },
     "execution_count": 17,
     "metadata": {},
     "output_type": "execute_result"
    }
   ],
   "source": [
    "root.find('ElectionInfo')"
   ]
  },
  {
   "cell_type": "markdown",
   "metadata": {},
   "source": [
    "Or the path expressed in [XPath](https://docs.python.org/3.8/library/xml.etree.elementtree.html#elementtree-xpath). For example, this will return all of the elements with a tag named `<Counties>` and child element with a `<CountyName>` tag with \"Boone\" in the text."
   ]
  },
  {
   "cell_type": "code",
   "execution_count": 18,
   "metadata": {},
   "outputs": [
    {
     "data": {
      "text/plain": [
       "[<Element 'Counties' at 0x120cbef90>,\n",
       " <Element 'Counties' at 0x120f37040>,\n",
       " <Element 'Counties' at 0x1211393b0>,\n",
       " <Element 'Counties' at 0x1212e21d0>,\n",
       " <Element 'Counties' at 0x12145b5e0>,\n",
       " <Element 'Counties' at 0x121592ae0>,\n",
       " <Element 'Counties' at 0x1216b5c70>,\n",
       " <Element 'Counties' at 0x1217c9270>,\n",
       " <Element 'Counties' at 0x12187e040>,\n",
       " <Element 'Counties' at 0x1218802c0>,\n",
       " <Element 'Counties' at 0x121880860>,\n",
       " <Element 'Counties' at 0x121880e00>,\n",
       " <Element 'Counties' at 0x121894d60>,\n",
       " <Element 'Counties' at 0x1219acc70>,\n",
       " <Element 'Counties' at 0x1219ce810>,\n",
       " <Element 'Counties' at 0x121aad630>,\n",
       " <Element 'Counties' at 0x121b269f0>,\n",
       " <Element 'Counties' at 0x121ba2c20>]"
      ]
     },
     "execution_count": 18,
     "metadata": {},
     "output_type": "execute_result"
    }
   ],
   "source": [
    "root.findall(\".//Counties[CountyName='Boone']\")"
   ]
  },
  {
   "cell_type": "markdown",
   "metadata": {},
   "source": [
    "Unlike CSV and other tabular data formats, XML has a nested structure with elements inside other elements. We can't read XML directly into a `pandas.DataFrame` (though, I did just run across [this](https://pypi.org/project/pandas-read-xml/) third-party package, which looks quite promising).\n",
    "\n",
    "Instead, we need to reformat the data from a nested structure into a two-dimensional structure that resembles a data table. We need to \"flatten\" the XML document's hierarchy such that each row in our data includes single observation with an observed value for each variable (i.e., columns). \n",
    "\n",
    "Essentially, we want each row to contain the number of votes counted for each ballot option in a given county and given contest.\n",
    "\n",
    "Let's start by defining an empty list hold all of our rows"
   ]
  },
  {
   "cell_type": "code",
   "execution_count": 19,
   "metadata": {},
   "outputs": [],
   "source": [
    "rows = []"
   ]
  },
  {
   "cell_type": "markdown",
   "metadata": {},
   "source": [
    "Now let's work from the outside in."
   ]
  },
  {
   "cell_type": "code",
   "execution_count": 20,
   "metadata": {},
   "outputs": [],
   "source": [
    "for type_race in root.findall(\".//TypeRace\"):\n",
    "    for race in type_race.findall(\"Race\"):\n",
    "        for counties in race.findall(\"Counties\"):\n",
    "            for party in counties.findall(\"CountyResults/Party\"):\n",
    "                for candidate in party.findall('Candidate'):\n",
    "                    row = [\n",
    "                        type_race.find('Type').text.strip(),\n",
    "                        race.find('RaceTitle').text.strip(),\n",
    "                        counties.find('CountyName').text.strip(),\n",
    "                        int(counties.find('CountyResults/ReportingPrecincts').text),\n",
    "                        int(counties.find('CountyResults/TotalPrecincts').text),\n",
    "                        party.find('PartyName').text.strip(),\n",
    "                        candidate.find('CandidateID').text.strip(),\n",
    "                        candidate.find('LastName').text.strip(),\n",
    "                        int(candidate.find('YesVotes').text),\n",
    "                    ]                   \n",
    "                    if candidate.find('NoVotes'):\n",
    "                        row.append(\n",
    "                            int(candidate.find('NoVotes').text)\n",
    "                        )\n",
    "                    else:\n",
    "                        row.append(0)\n",
    "\n",
    "                    rows.append(row)"
   ]
  },
  {
   "cell_type": "markdown",
   "metadata": {},
   "source": [
    "In the innermost for loop, we define `row`, which contains the ordered column values for a given row of data. These values are extracted from the text of specific elements. For the few numeric values, we also coerce the strings to Python's `int` data type.\n",
    "\n",
    "We also want to specify the column names and data_types (aka, [`dtypes`](https://pandas.pydata.org/pandas-docs/stable/user_guide/basics.html#basics-dtypes))."
   ]
  },
  {
   "cell_type": "code",
   "execution_count": 21,
   "metadata": {},
   "outputs": [],
   "source": [
    "columns = {\n",
    "    'type': \"string\",\n",
    "    'race': \"string\",\n",
    "    'county': \"string\",\n",
    "    'reporting_precincts': \"Int64\",\n",
    "    'total_precincts': \"Int64\",\n",
    "    'party': \"string\",\n",
    "    'candidate_id': \"string\",\n",
    "    'candidate_name': \"string\",\n",
    "    'yes_votes': \"Int64\",\n",
    "    'no_votes': \"Int64\"\n",
    "}"
   ]
  },
  {
   "cell_type": "markdown",
   "metadata": {},
   "source": [
    "Now we can load these rows into a `DataFrame`. Note that we pass in the keys of the `columns` dict in order to specify the column names, and then the full mapping of column name and column data types when we call `.astype`."
   ]
  },
  {
   "cell_type": "code",
   "execution_count": 22,
   "metadata": {},
   "outputs": [],
   "source": [
    "results_df = pd.DataFrame(rows, columns=columns.keys()) \\\n",
    "    .astype(columns)"
   ]
  },
  {
   "cell_type": "markdown",
   "metadata": {},
   "source": [
    "We also want to set the data types ."
   ]
  },
  {
   "cell_type": "code",
   "execution_count": 23,
   "metadata": {},
   "outputs": [
    {
     "data": {
      "text/html": [
       "<div>\n",
       "<style scoped>\n",
       "    .dataframe tbody tr th:only-of-type {\n",
       "        vertical-align: middle;\n",
       "    }\n",
       "\n",
       "    .dataframe tbody tr th {\n",
       "        vertical-align: top;\n",
       "    }\n",
       "\n",
       "    .dataframe thead th {\n",
       "        text-align: right;\n",
       "    }\n",
       "</style>\n",
       "<table border=\"1\" class=\"dataframe\">\n",
       "  <thead>\n",
       "    <tr style=\"text-align: right;\">\n",
       "      <th></th>\n",
       "      <th>type</th>\n",
       "      <th>race</th>\n",
       "      <th>county</th>\n",
       "      <th>reporting_precincts</th>\n",
       "      <th>total_precincts</th>\n",
       "      <th>party</th>\n",
       "      <th>candidate_id</th>\n",
       "      <th>candidate_name</th>\n",
       "      <th>yes_votes</th>\n",
       "      <th>no_votes</th>\n",
       "    </tr>\n",
       "  </thead>\n",
       "  <tbody>\n",
       "    <tr>\n",
       "      <th>0</th>\n",
       "      <td>Federal</td>\n",
       "      <td>U.S. President and Vice President</td>\n",
       "      <td>Adair</td>\n",
       "      <td>0</td>\n",
       "      <td>12</td>\n",
       "      <td>Republican</td>\n",
       "      <td>750127734</td>\n",
       "      <td>Donald J. Trump, Michael R. Pence</td>\n",
       "      <td>1</td>\n",
       "      <td>0</td>\n",
       "    </tr>\n",
       "    <tr>\n",
       "      <th>1</th>\n",
       "      <td>Federal</td>\n",
       "      <td>U.S. President and Vice President</td>\n",
       "      <td>Adair</td>\n",
       "      <td>0</td>\n",
       "      <td>12</td>\n",
       "      <td>Democratic</td>\n",
       "      <td>750127735</td>\n",
       "      <td>Joseph R. Biden, Kamala D. Harris</td>\n",
       "      <td>2</td>\n",
       "      <td>0</td>\n",
       "    </tr>\n",
       "    <tr>\n",
       "      <th>2</th>\n",
       "      <td>Federal</td>\n",
       "      <td>U.S. President and Vice President</td>\n",
       "      <td>Adair</td>\n",
       "      <td>0</td>\n",
       "      <td>12</td>\n",
       "      <td>Libertarian</td>\n",
       "      <td>750127736</td>\n",
       "      <td>Jo Jorgensen, Jeremy (Spike) Cohen</td>\n",
       "      <td>3</td>\n",
       "      <td>0</td>\n",
       "    </tr>\n",
       "    <tr>\n",
       "      <th>3</th>\n",
       "      <td>Federal</td>\n",
       "      <td>U.S. President and Vice President</td>\n",
       "      <td>Adair</td>\n",
       "      <td>0</td>\n",
       "      <td>12</td>\n",
       "      <td>Green</td>\n",
       "      <td>750127737</td>\n",
       "      <td>Howie Hawkins, Angela Nicole Walker</td>\n",
       "      <td>4</td>\n",
       "      <td>0</td>\n",
       "    </tr>\n",
       "    <tr>\n",
       "      <th>4</th>\n",
       "      <td>Federal</td>\n",
       "      <td>U.S. President and Vice President</td>\n",
       "      <td>Adair</td>\n",
       "      <td>0</td>\n",
       "      <td>12</td>\n",
       "      <td>Constitution</td>\n",
       "      <td>750127738</td>\n",
       "      <td>Don Blankenship, William Mohr</td>\n",
       "      <td>5</td>\n",
       "      <td>0</td>\n",
       "    </tr>\n",
       "    <tr>\n",
       "      <th>...</th>\n",
       "      <td>...</td>\n",
       "      <td>...</td>\n",
       "      <td>...</td>\n",
       "      <td>...</td>\n",
       "      <td>...</td>\n",
       "      <td>...</td>\n",
       "      <td>...</td>\n",
       "      <td>...</td>\n",
       "      <td>...</td>\n",
       "      <td>...</td>\n",
       "    </tr>\n",
       "    <tr>\n",
       "      <th>5786</th>\n",
       "      <td>Ballot Issues</td>\n",
       "      <td>Constitutional Amendment 3</td>\n",
       "      <td>Washington</td>\n",
       "      <td>0</td>\n",
       "      <td>14</td>\n",
       "      <td>Ballot Issues</td>\n",
       "      <td>750011439</td>\n",
       "      <td>Constitutional Amendment 3</td>\n",
       "      <td>6014</td>\n",
       "      <td>0</td>\n",
       "    </tr>\n",
       "    <tr>\n",
       "      <th>5787</th>\n",
       "      <td>Ballot Issues</td>\n",
       "      <td>Constitutional Amendment 3</td>\n",
       "      <td>Wayne</td>\n",
       "      <td>0</td>\n",
       "      <td>10</td>\n",
       "      <td>Ballot Issues</td>\n",
       "      <td>750011439</td>\n",
       "      <td>Constitutional Amendment 3</td>\n",
       "      <td>6016</td>\n",
       "      <td>0</td>\n",
       "    </tr>\n",
       "    <tr>\n",
       "      <th>5788</th>\n",
       "      <td>Ballot Issues</td>\n",
       "      <td>Constitutional Amendment 3</td>\n",
       "      <td>Webster</td>\n",
       "      <td>0</td>\n",
       "      <td>13</td>\n",
       "      <td>Ballot Issues</td>\n",
       "      <td>750011439</td>\n",
       "      <td>Constitutional Amendment 3</td>\n",
       "      <td>6018</td>\n",
       "      <td>0</td>\n",
       "    </tr>\n",
       "    <tr>\n",
       "      <th>5789</th>\n",
       "      <td>Ballot Issues</td>\n",
       "      <td>Constitutional Amendment 3</td>\n",
       "      <td>Worth</td>\n",
       "      <td>0</td>\n",
       "      <td>8</td>\n",
       "      <td>Ballot Issues</td>\n",
       "      <td>750011439</td>\n",
       "      <td>Constitutional Amendment 3</td>\n",
       "      <td>6020</td>\n",
       "      <td>0</td>\n",
       "    </tr>\n",
       "    <tr>\n",
       "      <th>5790</th>\n",
       "      <td>Ballot Issues</td>\n",
       "      <td>Constitutional Amendment 3</td>\n",
       "      <td>Wright</td>\n",
       "      <td>0</td>\n",
       "      <td>11</td>\n",
       "      <td>Ballot Issues</td>\n",
       "      <td>750011439</td>\n",
       "      <td>Constitutional Amendment 3</td>\n",
       "      <td>6022</td>\n",
       "      <td>0</td>\n",
       "    </tr>\n",
       "  </tbody>\n",
       "</table>\n",
       "<p>5791 rows × 10 columns</p>\n",
       "</div>"
      ],
      "text/plain": [
       "               type                               race      county  \\\n",
       "0           Federal  U.S. President and Vice President       Adair   \n",
       "1           Federal  U.S. President and Vice President       Adair   \n",
       "2           Federal  U.S. President and Vice President       Adair   \n",
       "3           Federal  U.S. President and Vice President       Adair   \n",
       "4           Federal  U.S. President and Vice President       Adair   \n",
       "...             ...                                ...         ...   \n",
       "5786  Ballot Issues         Constitutional Amendment 3  Washington   \n",
       "5787  Ballot Issues         Constitutional Amendment 3       Wayne   \n",
       "5788  Ballot Issues         Constitutional Amendment 3     Webster   \n",
       "5789  Ballot Issues         Constitutional Amendment 3       Worth   \n",
       "5790  Ballot Issues         Constitutional Amendment 3      Wright   \n",
       "\n",
       "      reporting_precincts  total_precincts          party candidate_id  \\\n",
       "0                       0               12     Republican    750127734   \n",
       "1                       0               12     Democratic    750127735   \n",
       "2                       0               12    Libertarian    750127736   \n",
       "3                       0               12          Green    750127737   \n",
       "4                       0               12   Constitution    750127738   \n",
       "...                   ...              ...            ...          ...   \n",
       "5786                    0               14  Ballot Issues    750011439   \n",
       "5787                    0               10  Ballot Issues    750011439   \n",
       "5788                    0               13  Ballot Issues    750011439   \n",
       "5789                    0                8  Ballot Issues    750011439   \n",
       "5790                    0               11  Ballot Issues    750011439   \n",
       "\n",
       "                           candidate_name  yes_votes  no_votes  \n",
       "0       Donald J. Trump, Michael R. Pence          1         0  \n",
       "1       Joseph R. Biden, Kamala D. Harris          2         0  \n",
       "2      Jo Jorgensen, Jeremy (Spike) Cohen          3         0  \n",
       "3     Howie Hawkins, Angela Nicole Walker          4         0  \n",
       "4           Don Blankenship, William Mohr          5         0  \n",
       "...                                   ...        ...       ...  \n",
       "5786           Constitutional Amendment 3       6014         0  \n",
       "5787           Constitutional Amendment 3       6016         0  \n",
       "5788           Constitutional Amendment 3       6018         0  \n",
       "5789           Constitutional Amendment 3       6020         0  \n",
       "5790           Constitutional Amendment 3       6022         0  \n",
       "\n",
       "[5791 rows x 10 columns]"
      ]
     },
     "execution_count": 23,
     "metadata": {},
     "output_type": "execute_result"
    }
   ],
   "source": [
    "results_df"
   ]
  },
  {
   "cell_type": "markdown",
   "metadata": {},
   "source": [
    "I'll take a look at the columns, their positions, non-null counts and data-types:"
   ]
  },
  {
   "cell_type": "code",
   "execution_count": 24,
   "metadata": {},
   "outputs": [
    {
     "name": "stdout",
     "output_type": "stream",
     "text": [
      "<class 'pandas.core.frame.DataFrame'>\n",
      "RangeIndex: 5791 entries, 0 to 5790\n",
      "Data columns (total 10 columns):\n",
      " #   Column               Non-Null Count  Dtype \n",
      "---  ------               --------------  ----- \n",
      " 0   type                 5791 non-null   string\n",
      " 1   race                 5791 non-null   string\n",
      " 2   county               5791 non-null   string\n",
      " 3   reporting_precincts  5791 non-null   Int64 \n",
      " 4   total_precincts      5791 non-null   Int64 \n",
      " 5   party                5791 non-null   string\n",
      " 6   candidate_id         5791 non-null   string\n",
      " 7   candidate_name       5791 non-null   string\n",
      " 8   yes_votes            5791 non-null   Int64 \n",
      " 9   no_votes             5791 non-null   Int64 \n",
      "dtypes: Int64(4), string(6)\n",
      "memory usage: 475.2 KB\n"
     ]
    }
   ],
   "source": [
    "results_df.info()"
   ]
  },
  {
   "cell_type": "markdown",
   "metadata": {},
   "source": [
    "And take a peek of the actual data:"
   ]
  },
  {
   "cell_type": "code",
   "execution_count": 25,
   "metadata": {},
   "outputs": [
    {
     "data": {
      "text/html": [
       "<div>\n",
       "<style scoped>\n",
       "    .dataframe tbody tr th:only-of-type {\n",
       "        vertical-align: middle;\n",
       "    }\n",
       "\n",
       "    .dataframe tbody tr th {\n",
       "        vertical-align: top;\n",
       "    }\n",
       "\n",
       "    .dataframe thead th {\n",
       "        text-align: right;\n",
       "    }\n",
       "</style>\n",
       "<table border=\"1\" class=\"dataframe\">\n",
       "  <thead>\n",
       "    <tr style=\"text-align: right;\">\n",
       "      <th></th>\n",
       "      <th>type</th>\n",
       "      <th>race</th>\n",
       "      <th>county</th>\n",
       "      <th>reporting_precincts</th>\n",
       "      <th>total_precincts</th>\n",
       "      <th>party</th>\n",
       "      <th>candidate_id</th>\n",
       "      <th>candidate_name</th>\n",
       "      <th>yes_votes</th>\n",
       "      <th>no_votes</th>\n",
       "    </tr>\n",
       "  </thead>\n",
       "  <tbody>\n",
       "    <tr>\n",
       "      <th>0</th>\n",
       "      <td>Federal</td>\n",
       "      <td>U.S. President and Vice President</td>\n",
       "      <td>Adair</td>\n",
       "      <td>0</td>\n",
       "      <td>12</td>\n",
       "      <td>Republican</td>\n",
       "      <td>750127734</td>\n",
       "      <td>Donald J. Trump, Michael R. Pence</td>\n",
       "      <td>1</td>\n",
       "      <td>0</td>\n",
       "    </tr>\n",
       "    <tr>\n",
       "      <th>1</th>\n",
       "      <td>Federal</td>\n",
       "      <td>U.S. President and Vice President</td>\n",
       "      <td>Adair</td>\n",
       "      <td>0</td>\n",
       "      <td>12</td>\n",
       "      <td>Democratic</td>\n",
       "      <td>750127735</td>\n",
       "      <td>Joseph R. Biden, Kamala D. Harris</td>\n",
       "      <td>2</td>\n",
       "      <td>0</td>\n",
       "    </tr>\n",
       "    <tr>\n",
       "      <th>2</th>\n",
       "      <td>Federal</td>\n",
       "      <td>U.S. President and Vice President</td>\n",
       "      <td>Adair</td>\n",
       "      <td>0</td>\n",
       "      <td>12</td>\n",
       "      <td>Libertarian</td>\n",
       "      <td>750127736</td>\n",
       "      <td>Jo Jorgensen, Jeremy (Spike) Cohen</td>\n",
       "      <td>3</td>\n",
       "      <td>0</td>\n",
       "    </tr>\n",
       "    <tr>\n",
       "      <th>3</th>\n",
       "      <td>Federal</td>\n",
       "      <td>U.S. President and Vice President</td>\n",
       "      <td>Adair</td>\n",
       "      <td>0</td>\n",
       "      <td>12</td>\n",
       "      <td>Green</td>\n",
       "      <td>750127737</td>\n",
       "      <td>Howie Hawkins, Angela Nicole Walker</td>\n",
       "      <td>4</td>\n",
       "      <td>0</td>\n",
       "    </tr>\n",
       "    <tr>\n",
       "      <th>4</th>\n",
       "      <td>Federal</td>\n",
       "      <td>U.S. President and Vice President</td>\n",
       "      <td>Adair</td>\n",
       "      <td>0</td>\n",
       "      <td>12</td>\n",
       "      <td>Constitution</td>\n",
       "      <td>750127738</td>\n",
       "      <td>Don Blankenship, William Mohr</td>\n",
       "      <td>5</td>\n",
       "      <td>0</td>\n",
       "    </tr>\n",
       "  </tbody>\n",
       "</table>\n",
       "</div>"
      ],
      "text/plain": [
       "      type                               race county  reporting_precincts  \\\n",
       "0  Federal  U.S. President and Vice President  Adair                    0   \n",
       "1  Federal  U.S. President and Vice President  Adair                    0   \n",
       "2  Federal  U.S. President and Vice President  Adair                    0   \n",
       "3  Federal  U.S. President and Vice President  Adair                    0   \n",
       "4  Federal  U.S. President and Vice President  Adair                    0   \n",
       "\n",
       "   total_precincts         party candidate_id  \\\n",
       "0               12    Republican    750127734   \n",
       "1               12    Democratic    750127735   \n",
       "2               12   Libertarian    750127736   \n",
       "3               12         Green    750127737   \n",
       "4               12  Constitution    750127738   \n",
       "\n",
       "                        candidate_name  yes_votes  no_votes  \n",
       "0    Donald J. Trump, Michael R. Pence          1         0  \n",
       "1    Joseph R. Biden, Kamala D. Harris          2         0  \n",
       "2   Jo Jorgensen, Jeremy (Spike) Cohen          3         0  \n",
       "3  Howie Hawkins, Angela Nicole Walker          4         0  \n",
       "4        Don Blankenship, William Mohr          5         0  "
      ]
     },
     "execution_count": 25,
     "metadata": {},
     "output_type": "execute_result"
    }
   ],
   "source": [
    "results_df.head()"
   ]
  },
  {
   "cell_type": "code",
   "execution_count": 26,
   "metadata": {},
   "outputs": [],
   "source": [
    "prez_results = results_df[results_df['race'] == \"U.S. President and Vice President\"]"
   ]
  },
  {
   "cell_type": "code",
   "execution_count": 27,
   "metadata": {},
   "outputs": [],
   "source": [
    "prez_totals = prez_results \\\n",
    "    .groupby(['candidate_id', 'party', 'candidate_name']) \\\n",
    "    .yes_votes \\\n",
    "    .sum()"
   ]
  },
  {
   "cell_type": "code",
   "execution_count": 28,
   "metadata": {},
   "outputs": [
    {
     "data": {
      "text/html": [
       "<div>\n",
       "<style scoped>\n",
       "    .dataframe tbody tr th:only-of-type {\n",
       "        vertical-align: middle;\n",
       "    }\n",
       "\n",
       "    .dataframe tbody tr th {\n",
       "        vertical-align: top;\n",
       "    }\n",
       "\n",
       "    .dataframe thead th {\n",
       "        text-align: right;\n",
       "    }\n",
       "</style>\n",
       "<table border=\"1\" class=\"dataframe\">\n",
       "  <thead>\n",
       "    <tr style=\"text-align: right;\">\n",
       "      <th></th>\n",
       "      <th>candidate_id</th>\n",
       "      <th>party</th>\n",
       "      <th>candidate_name</th>\n",
       "      <th>yes_votes</th>\n",
       "    </tr>\n",
       "  </thead>\n",
       "  <tbody>\n",
       "    <tr>\n",
       "      <th>0</th>\n",
       "      <td>750127734</td>\n",
       "      <td>Republican</td>\n",
       "      <td>Donald J. Trump, Michael R. Pence</td>\n",
       "      <td>66816</td>\n",
       "    </tr>\n",
       "    <tr>\n",
       "      <th>1</th>\n",
       "      <td>750127735</td>\n",
       "      <td>Democratic</td>\n",
       "      <td>Joseph R. Biden, Kamala D. Harris</td>\n",
       "      <td>66932</td>\n",
       "    </tr>\n",
       "    <tr>\n",
       "      <th>2</th>\n",
       "      <td>750127736</td>\n",
       "      <td>Libertarian</td>\n",
       "      <td>Jo Jorgensen, Jeremy (Spike) Cohen</td>\n",
       "      <td>67048</td>\n",
       "    </tr>\n",
       "    <tr>\n",
       "      <th>3</th>\n",
       "      <td>750127737</td>\n",
       "      <td>Green</td>\n",
       "      <td>Howie Hawkins, Angela Nicole Walker</td>\n",
       "      <td>67164</td>\n",
       "    </tr>\n",
       "    <tr>\n",
       "      <th>4</th>\n",
       "      <td>750127738</td>\n",
       "      <td>Constitution</td>\n",
       "      <td>Don Blankenship, William Mohr</td>\n",
       "      <td>67280</td>\n",
       "    </tr>\n",
       "    <tr>\n",
       "      <th>5</th>\n",
       "      <td>750128582</td>\n",
       "      <td>Write-in</td>\n",
       "      <td>WRITE-INS</td>\n",
       "      <td>67396</td>\n",
       "    </tr>\n",
       "    <tr>\n",
       "      <th>6</th>\n",
       "      <td>750128584</td>\n",
       "      <td>Write-in</td>\n",
       "      <td>Kasey Wells,  Rachel Wells</td>\n",
       "      <td>67512</td>\n",
       "    </tr>\n",
       "    <tr>\n",
       "      <th>7</th>\n",
       "      <td>750128585</td>\n",
       "      <td>Write-in</td>\n",
       "      <td>Brian Carroll, Amar Patel</td>\n",
       "      <td>67744</td>\n",
       "    </tr>\n",
       "    <tr>\n",
       "      <th>8</th>\n",
       "      <td>750128586</td>\n",
       "      <td>Write-in</td>\n",
       "      <td>Gloria LaRiva, Sunil Freeman</td>\n",
       "      <td>67860</td>\n",
       "    </tr>\n",
       "    <tr>\n",
       "      <th>9</th>\n",
       "      <td>750128601</td>\n",
       "      <td>Write-in</td>\n",
       "      <td>Jade Simmons, Claudeliah J. Roze</td>\n",
       "      <td>67628</td>\n",
       "    </tr>\n",
       "  </tbody>\n",
       "</table>\n",
       "</div>"
      ],
      "text/plain": [
       "  candidate_id         party                       candidate_name  yes_votes\n",
       "0    750127734    Republican    Donald J. Trump, Michael R. Pence      66816\n",
       "1    750127735    Democratic    Joseph R. Biden, Kamala D. Harris      66932\n",
       "2    750127736   Libertarian   Jo Jorgensen, Jeremy (Spike) Cohen      67048\n",
       "3    750127737         Green  Howie Hawkins, Angela Nicole Walker      67164\n",
       "4    750127738  Constitution        Don Blankenship, William Mohr      67280\n",
       "5    750128582      Write-in                            WRITE-INS      67396\n",
       "6    750128584      Write-in           Kasey Wells,  Rachel Wells      67512\n",
       "7    750128585      Write-in            Brian Carroll, Amar Patel      67744\n",
       "8    750128586      Write-in         Gloria LaRiva, Sunil Freeman      67860\n",
       "9    750128601      Write-in     Jade Simmons, Claudeliah J. Roze      67628"
      ]
     },
     "execution_count": 28,
     "metadata": {},
     "output_type": "execute_result"
    }
   ],
   "source": [
    "prez_totals.reset_index()"
   ]
  },
  {
   "cell_type": "code",
   "execution_count": null,
   "metadata": {},
   "outputs": [],
   "source": []
  }
 ],
 "metadata": {
  "kernelspec": {
   "display_name": "Python 3",
   "language": "python",
   "name": "python3"
  },
  "language_info": {
   "codemirror_mode": {
    "name": "ipython",
    "version": 3
   },
   "file_extension": ".py",
   "mimetype": "text/x-python",
   "name": "python",
   "nbconvert_exporter": "python",
   "pygments_lexer": "ipython3",
   "version": "3.8.5"
  }
 },
 "nbformat": 4,
 "nbformat_minor": 4
}
